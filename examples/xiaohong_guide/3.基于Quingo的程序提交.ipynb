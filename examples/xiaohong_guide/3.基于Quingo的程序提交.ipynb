{
 "cells": [
  {
   "cell_type": "markdown",
   "id": "1d608486-26c5-4b89-864e-ddb33ccf518a",
   "metadata": {},
   "source": [
    "# 3. 基于Quingo的首个量子程序提交"
   ]
  },
  {
   "cell_type": "markdown",
   "id": "74cb9986",
   "metadata": {},
   "source": [
    "如果需要在云平台量子计算机上使用其他量子语言提交实验，思路如下：首先利用所选编程语言，在用户本地调用语言编译器，将线路编译/输出为QCIS语言，然后按照QCIS语言进行实验提交。\n",
    "\n",
    "Quingo中集成了与云平台的对接功能，用户无需手动提交到云平台，直接使用quingo的接口即可。\n",
    "\n",
    "（云平台JupyterLab环境已经预制好多种语言环境并且都无需安装，如有其他需求，可以联系客服。）"
   ]
  },
  {
   "cell_type": "markdown",
   "id": "ff0087d2",
   "metadata": {},
   "source": [
    "## 3.1 Quingo环境的安装与配置"
   ]
  },
  {
   "cell_type": "markdown",
   "id": "a7db85f3",
   "metadata": {},
   "source": [
    "Quingo可以通过以下两种方式安装：\n",
    "\n",
    "（当前Quingo的最新版本为0.2.1）"
   ]
  },
  {
   "cell_type": "markdown",
   "id": "5b4d4f21",
   "metadata": {},
   "source": [
    "### 3.1.1 源码安装"
   ]
  },
  {
   "cell_type": "code",
   "execution_count": null,
   "id": "ebe26b2c",
   "metadata": {
    "vscode": {
     "languageId": "shellscript"
    }
   },
   "outputs": [],
   "source": [
    "git clone git@gitee.com:quingo/quingo-runtime.git\n",
    "cd quingo-runtime\n",
    "git checkout develop\n",
    "pip install . -e\n",
    "python -m quingo.install_quingoc"
   ]
  },
  {
   "cell_type": "markdown",
   "id": "e19ac10b",
   "metadata": {},
   "source": [
    "### 3.1.2 pip安装"
   ]
  },
  {
   "cell_type": "code",
   "execution_count": null,
   "id": "d9e0813d",
   "metadata": {
    "vscode": {
     "languageId": "shellscript"
    }
   },
   "outputs": [],
   "source": [
    "pip install quingo\n",
    "python -m quingo.install_quingoc"
   ]
  },
  {
   "cell_type": "markdown",
   "id": "12945b0e-8f4d-4350-9277-0cc1dd7e3f56",
   "metadata": {
    "tags": []
   },
   "source": [
    "## 3.2 编写Quingo量子程序"
   ]
  },
  {
   "cell_type": "markdown",
   "id": "49ab344e-46f5-400c-9472-0c175281cba8",
   "metadata": {},
   "source": [
    "根据Quingo语法规则，编写Quingo量子程序。\n",
    "\n",
    "Quingo量子程序通常以`.qu`为文件后缀，并保存在Python主程序所在目录。\n",
    "用户可以使用vscode中的语法高亮插件`vscode-quingo`来辅助代码编写。\n",
    "\n",
    "下面的`bell.qu`是一个Quingo的例子："
   ]
  },
  {
   "cell_type": "raw",
   "id": "4392ced1",
   "metadata": {},
   "source": [
    "import std_ops\n",
    "\n",
    "operation bell_state() : unit {\n",
    "    // 指定物理量子比特，逻辑比特q0对应物理比特q0，逻辑比特q1对应物理比特q6\n",
    "    using(q0: qubit = 0, q1: qubit = 6) {\n",
    "        H(q0);\n",
    "        X(q1);\n",
    "        CNOT(q0, q1);\n",
    "        measure(q0);\n",
    "        measure(q1);\n",
    "    }\n",
    "}"
   ]
  },
  {
   "cell_type": "markdown",
   "id": "710edae5",
   "metadata": {},
   "source": [
    "用户也可以直接使用Python将Quingo代码写入文件："
   ]
  },
  {
   "cell_type": "code",
   "execution_count": 1,
   "id": "6acf2a20-9392-439e-bae4-7bd43e2af085",
   "metadata": {},
   "outputs": [
    {
     "data": {
      "text/plain": [
       "239"
      ]
     },
     "execution_count": 1,
     "metadata": {},
     "output_type": "execute_result"
    }
   ],
   "source": [
    "from pathlib import Path\n",
    "\n",
    "Quingo_code='''\n",
    "import std_ops\n",
    "\n",
    "operation bell_state() : unit {\n",
    "    // 指定物理量子比特，逻辑比特q0对应物理比特q0，逻辑比特q1对应物理比特q6\n",
    "    using(q0: qubit = 0, q1: qubit = 6) {\n",
    "        H(q0);\n",
    "        X(q1);\n",
    "        CNOT(q0, q1);\n",
    "        measure(q0);\n",
    "        measure(q1);\n",
    "    }\n",
    "}\n",
    "'''\n",
    "\n",
    "file_path = Path(\"./bell.qu\")\n",
    "file_path.write_text(Quingo_code)"
   ]
  },
  {
   "cell_type": "markdown",
   "id": "852b620f",
   "metadata": {},
   "source": [
    "## 3.3 在量子计算云平台上运行Quingo程序"
   ]
  },
  {
   "cell_type": "markdown",
   "id": "025e9582-d05c-46e0-8987-9f57b9450569",
   "metadata": {
    "tags": []
   },
   "source": [
    "对云平台的访问和任务提交已集成到Quingo库中，用户可直接调用接口，在云平台上运行Quingo程序。\n",
    "\n",
    "下面是一个完整的例子，展示了Quingo程序从编译到执行的全过程。"
   ]
  },
  {
   "cell_type": "code",
   "execution_count": 2,
   "id": "57c868f0-01af-47d7-a74c-daf65679a18d",
   "metadata": {},
   "outputs": [
    {
     "name": "stdout",
     "output_type": "stream",
     "text": [
      "Set account successfully:\n",
      "   login key = 7e699***************************\n",
      "   machine name = Xiaohong\n",
      "Start execute:\n",
      "num shots = 10\n",
      "查询实验结果请等待: 5.81秒\n",
      "查询实验结果请等待: 4.24秒\n",
      "查询实验结果请等待: 4.18秒\n",
      "result:  {'qubits': [0, 6], 'results': [[0, 1], [0, 1], [0, 1], [1, 0], [1, 0], [1, 0], [1, 0], [0, 0], [0, 1], [1, 0]]}\n"
     ]
    }
   ],
   "source": [
    "from quingo import *\n",
    "from pathlib import Path\n",
    "\n",
    "qu_file = Path(\"./bell.qu\")\n",
    "\n",
    "def routine(circ_name, num_shots=1):\n",
    "    # 指定quingo文件和quingo主函数名\n",
    "    task = Quingo_task(qu_file, circ_name)\n",
    "    # 指定执行控制信息\n",
    "    cfg = ExeConfig(\n",
    "        ExeMode.RealMachine,   # 执行模式，云平台上的执行均为RealMachine模式\n",
    "        num_shots,   # 单个线路的执行次数\n",
    "        xh_login_key=\"7e6999bab11453428b8ded1fac00b3ea\",    # 用户SDK密钥，需要替换为用户自己的密钥\n",
    "        xh_machine_name=\"Xiaohong\",    # 量子计算机\n",
    "    )\n",
    "    # 将quingo程序编译为qcis程序\n",
    "    qasm_fn = compile(task, params=(), qasm_fn=\"./bell_state.qcis\")\n",
    "    # 将qcis程序提交到云平台并执行\n",
    "    res = execute(qasm_fn, BackendType.XIAOHONG, cfg)\n",
    "    print(\"result: \", res)\n",
    "\n",
    "routine(\"bell_state\", 10)"
   ]
  },
  {
   "cell_type": "markdown",
   "id": "994dc85f",
   "metadata": {},
   "source": [
    "## 3.4 （可选）编译程序，输出QCIS线路"
   ]
  },
  {
   "cell_type": "markdown",
   "id": "4836dd81-00fb-4a8b-a402-230992a15c9e",
   "metadata": {},
   "source": [
    "Quingo文件经过编译会生成QCIS文件，用户在调试程序时，查看QCIS文件可能有所帮助。\n",
    "\n",
    "读取Quingo编译输出的QCIS文件："
   ]
  },
  {
   "cell_type": "code",
   "execution_count": 3,
   "id": "3fba9ac1-392b-424b-9512-25004b5f99b0",
   "metadata": {},
   "outputs": [
    {
     "name": "stdout",
     "output_type": "stream",
     "text": [
      "    H    Q0\n",
      "    X    Q6\n",
      "    H    Q6\n",
      "   CZ    Q0           Q6\n",
      "    H    Q6\n",
      "    M    Q0\n",
      "    M    Q6\n",
      "\n"
     ]
    }
   ],
   "source": [
    "f = open(\"./bell_state.qcis\",'r')\n",
    "quingo_qcis=f.read()\n",
    "f.close()\n",
    "print(quingo_qcis)"
   ]
  }
 ],
 "metadata": {
  "kernelspec": {
   "display_name": "Python 3 (ipykernel)",
   "language": "python",
   "name": "python3"
  },
  "language_info": {
   "codemirror_mode": {
    "name": "ipython",
    "version": 3
   },
   "file_extension": ".py",
   "mimetype": "text/x-python",
   "name": "python",
   "nbconvert_exporter": "python",
   "pygments_lexer": "ipython3",
   "version": "3.9.13"
  }
 },
 "nbformat": 4,
 "nbformat_minor": 5
}
