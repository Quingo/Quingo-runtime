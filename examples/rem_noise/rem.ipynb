{
 "cells": [
  {
   "cell_type": "markdown",
   "metadata": {},
   "source": [
    "# How to use\n",
    "***\n"
   ]
  },
  {
   "cell_type": "markdown",
   "metadata": {},
   "source": [
    "以下举例子说明rem的使用流程和接口格式，考虑以下可观测量期望值求解问题。"
   ]
  },
  {
   "cell_type": "code",
   "execution_count": 1,
   "metadata": {},
   "outputs": [],
   "source": [
    "from quingo import *\n",
    "from pathlib import Path\n",
    "from quingo.lib.rem import get_corr_exp_value_for_full_matrix_model\n",
    "n_qubits = 2\n",
    "# observable = 'ZZ'\n",
    "observable = [0, 0]\n",
    "\n",
    "qu_file = Path(\"test.qu\")\n",
    "\n",
    "from quingo.lib.utils import get_prob_noisy\n",
    "\n",
    "noise_config = [0, 1], [0.1, 0.1], ['bflip', 'bflip']\n",
    "task = Quingo_task(qu_file, \"bell_state\")\n",
    "\n",
    "noisy_circ_prob = get_prob_noisy(task,noise_config,n_qubits,shots=50)"
   ]
  },
  {
   "cell_type": "code",
   "execution_count": 2,
   "metadata": {},
   "outputs": [
    {
     "data": {
      "text/plain": [
       "{0: 0.42, 1: 0.14, 2: 0, 3: 0.44}"
      ]
     },
     "execution_count": 2,
     "metadata": {},
     "output_type": "execute_result"
    }
   ],
   "source": [
    "noisy_circ_prob"
   ]
  },
  {
   "cell_type": "code",
   "execution_count": 3,
   "metadata": {},
   "outputs": [],
   "source": [
    "qu_calibration= Path(\"calibration.qu\")\n",
    "calibration_circ = Quingo_task(qu_calibration, \"calibration_circuits\")\n"
   ]
  },
  {
   "cell_type": "code",
   "execution_count": 4,
   "metadata": {},
   "outputs": [],
   "source": [
    "from quingo.lib.utils import calibration_matrix"
   ]
  },
  {
   "cell_type": "code",
   "execution_count": 5,
   "metadata": {},
   "outputs": [
    {
     "name": "stdout",
     "output_type": "stream",
     "text": [
      "[(2, [0, 0], [0, 0]), (2, [0, 0], [0, 1]), (2, [0, 0], [1, 0]), (2, [0, 0], [1, 1])]\n"
     ]
    }
   ],
   "source": [
    "cali_matrix_fm = calibration_matrix(calibration_circ,2,[0,0],noise_config)"
   ]
  },
  {
   "cell_type": "code",
   "execution_count": 6,
   "metadata": {},
   "outputs": [
    {
     "data": {
      "text/plain": [
       "array([[0.74, 0.07, 0.1 , 0.  ],\n",
       "       [0.12, 0.  , 0.82, 0.09],\n",
       "       [0.13, 0.84, 0.02, 0.12],\n",
       "       [0.01, 0.09, 0.06, 0.79]])"
      ]
     },
     "execution_count": 6,
     "metadata": {},
     "output_type": "execute_result"
    }
   ],
   "source": [
    "cali_matrix_fm"
   ]
  },
  {
   "cell_type": "code",
   "execution_count": 7,
   "metadata": {},
   "outputs": [
    {
     "name": "stdout",
     "output_type": "stream",
     "text": [
      "[0.42 0.14 0.   0.44]\n",
      "[ 0.5806 -0.1715  0.0235  0.5674]\n"
     ]
    }
   ],
   "source": [
    "corr_exp_value_fp = get_corr_exp_value_for_full_matrix_model(n_qubits, noisy_circ_prob, cali_matrix_fm)"
   ]
  },
  {
   "cell_type": "code",
   "execution_count": 8,
   "metadata": {},
   "outputs": [
    {
     "data": {
      "text/plain": [
       "{0: 0.49623028762904114,\n",
       " 1: -7.704358491026306e-18,\n",
       " 2: 0.014963835514714814,\n",
       " 3: 0.488805876856244}"
      ]
     },
     "execution_count": 8,
     "metadata": {},
     "output_type": "execute_result"
    }
   ],
   "source": [
    "corr_exp_value_fp"
   ]
  }
 ],
 "metadata": {
  "kernelspec": {
   "display_name": "tmp",
   "language": "python",
   "name": "python3"
  },
  "language_info": {
   "codemirror_mode": {
    "name": "ipython",
    "version": 3
   },
   "file_extension": ".py",
   "mimetype": "text/x-python",
   "name": "python",
   "nbconvert_exporter": "python",
   "pygments_lexer": "ipython3",
   "version": "3.9.18"
  }
 },
 "nbformat": 4,
 "nbformat_minor": 2
}
